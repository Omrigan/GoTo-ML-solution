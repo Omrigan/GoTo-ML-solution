{
 "cells": [
  {
   "cell_type": "markdown",
   "metadata": {},
   "source": [
    "# Данные"
   ]
  },
  {
   "cell_type": "code",
   "execution_count": 15,
   "metadata": {
    "collapsed": false
   },
   "outputs": [],
   "source": [
    "import csv\n",
    "from collections import defaultdict, Counter\n",
    "import random\n",
    "import json\n",
    "from metrics import apk\n",
    "random.seed(42)"
   ]
  },
  {
   "cell_type": "code",
   "execution_count": 2,
   "metadata": {
    "collapsed": true
   },
   "outputs": [],
   "source": [
    "from sklearn.ensemble import RandomForestRegressor\n",
    "import numpy as np"
   ]
  },
  {
   "cell_type": "code",
   "execution_count": 3,
   "metadata": {
    "collapsed": true
   },
   "outputs": [],
   "source": [
    "import scipy as sp\n",
    "import scipy.sparse\n",
    "import scipy.sparse.linalg"
   ]
  },
  {
   "cell_type": "code",
   "execution_count": null,
   "metadata": {
    "collapsed": true
   },
   "outputs": [],
   "source": [
    "import lasagne\n",
    "import theano\n",
    "import theano.tensor as T"
   ]
  },
  {
   "cell_type": "code",
   "execution_count": 4,
   "metadata": {
    "collapsed": false
   },
   "outputs": [],
   "source": [
    "#Словари для основной выборки\n",
    "user_to_items = defaultdict(set)\n",
    "item_to_users = defaultdict(set)\n",
    "edges = []\n",
    "#Словари для тестовой выборки\n",
    "test_user_to_items = defaultdict(set)\n",
    "test_item_to_users = defaultdict(set)\n",
    "test_edges = []\n",
    "\n",
    "with open(\"data/train_likes.csv\") as datafile:\n",
    "    for like in csv.DictReader(datafile):\n",
    "        # Кидаем монетку. В зависимости от результата кладём в обучение или тест\n",
    "        if random.random() < 0.90:\n",
    "            user_to_items[like['user_id']].add(like['item_id'])\n",
    "            item_to_users[like['item_id']].add(like['user_id'])\n",
    "            edges.append((like['user_id'], like['item_id']))\n",
    "        else:\n",
    "            test_user_to_items[like['user_id']].add(like['item_id'])\n",
    "            test_item_to_users[like['item_id']].add(like['user_id'])\n",
    "            test_edges.append((like['user_id'], like['item_id']))"
   ]
  },
  {
   "cell_type": "code",
   "execution_count": 5,
   "metadata": {
    "collapsed": false
   },
   "outputs": [],
   "source": [
    "all_items = set(item_to_users.keys()) | set(test_item_to_users.keys())\n",
    "all_users = set(user_to_items.keys()) | set(test_user_to_items.keys())"
   ]
  },
  {
   "cell_type": "code",
   "execution_count": 6,
   "metadata": {
    "collapsed": true
   },
   "outputs": [],
   "source": [
    "users_list = list(user_to_items.keys())\n",
    "test_users_list = list(test_user_to_items.keys())"
   ]
  },
  {
   "cell_type": "code",
   "execution_count": 7,
   "metadata": {
    "collapsed": true
   },
   "outputs": [],
   "source": [
    "user_to_i = {user: i for i, user in enumerate(all_users)}\n",
    "item_to_i = {item: i for i, item in enumerate(all_items)}\n",
    "all_users_list = list(all_users)\n",
    "all_items_list = list(all_items)"
   ]
  },
  {
   "cell_type": "code",
   "execution_count": 8,
   "metadata": {
    "collapsed": false
   },
   "outputs": [],
   "source": [
    "matrix = sp.sparse.lil_matrix((len(all_users), len(all_items)))\n",
    "test_matrix = sp.sparse.lil_matrix((len(all_users), len(all_items)))\n",
    "for user, items in user_to_items.items():\n",
    "    for item in items:\n",
    "        matrix[user_to_i[user], item_to_i[item]] = True\n",
    "for user, items in test_user_to_items.items():\n",
    "    for item in items:\n",
    "        test_matrix[user_to_i[user], item_to_i[item]] = True\n",
    "matrix = matrix.tocsr()\n",
    "test_matrix = test_matrix.tocsr()"
   ]
  },
  {
   "cell_type": "code",
   "execution_count": 9,
   "metadata": {
    "collapsed": false
   },
   "outputs": [
    {
     "data": {
      "text/plain": [
       "<55863x23891 sparse matrix of type '<class 'numpy.float64'>'\n",
       "\twith 99582 stored elements in Compressed Sparse Row format>"
      ]
     },
     "execution_count": 9,
     "metadata": {},
     "output_type": "execute_result"
    }
   ],
   "source": [
    "matrix"
   ]
  },
  {
   "cell_type": "code",
   "execution_count": 10,
   "metadata": {
    "collapsed": true
   },
   "outputs": [],
   "source": [
    "u, s, vt = sp.sparse.linalg.svds(matrix.astype(np.float32), k=100)"
   ]
  },
  {
   "cell_type": "code",
   "execution_count": 11,
   "metadata": {
    "collapsed": false
   },
   "outputs": [
    {
     "data": {
      "text/plain": [
       "(array([[  0.00000000e+00,   0.00000000e+00,   0.00000000e+00, ...,\n",
       "           0.00000000e+00,   0.00000000e+00,   0.00000000e+00],\n",
       "        [  0.00000000e+00,   0.00000000e+00,   0.00000000e+00, ...,\n",
       "           0.00000000e+00,   0.00000000e+00,   0.00000000e+00],\n",
       "        [ -5.78052363e-12,  -1.12967682e-11,   4.27958224e-11, ...,\n",
       "          -1.46805983e-12,   1.39074178e-11,   5.32049231e-12],\n",
       "        ..., \n",
       "        [  6.98581338e-03,  -1.19996611e-02,  -1.05127774e-03, ...,\n",
       "          -2.49119385e-05,  -2.29380283e-04,   2.38834444e-04],\n",
       "        [  1.57555600e-03,   1.87347014e-03,  -9.51645314e-04, ...,\n",
       "           7.12322770e-04,  -5.07251010e-04,   6.79163903e-04],\n",
       "        [  7.99124222e-03,   7.36495899e-03,   1.09396344e-02, ...,\n",
       "          -1.01648846e-04,  -1.04412588e-03,   1.13458082e-03]], dtype=float32),\n",
       " array([ 10.72060871,  10.74181747,  10.77246761,  10.81643581,\n",
       "         10.87412643,  10.89381695,  10.9067688 ,  10.93737125,\n",
       "         11.00072002,  11.02944088,  11.04997444,  11.09654999,\n",
       "         11.14348412,  11.20339584,  11.22042084,  11.25048161,\n",
       "         11.28625202,  11.34178829,  11.3483181 ,  11.36617565,\n",
       "         11.43616295,  11.46676159,  11.5211792 ,  11.59879494,\n",
       "         11.65233898,  11.68071651,  11.72358418,  11.76309299,\n",
       "         11.80028725,  11.88132572,  11.91453266,  11.93321037,\n",
       "         11.96007252,  12.00571918,  12.11372471,  12.13795471,\n",
       "         12.21345234,  12.29712868,  12.34278202,  12.41539669,\n",
       "         12.49751663,  12.56219006,  12.64390469,  12.71175766,\n",
       "         12.81099606,  12.83630657,  12.97427082,  13.00345707,\n",
       "         13.11732197,  13.16284084,  13.30248928,  13.3094759 ,\n",
       "         13.33899784,  13.48856354,  13.64422321,  13.79819202,\n",
       "         13.84521294,  14.1112051 ,  14.1580286 ,  14.17144871,\n",
       "         14.32801437,  14.34983921,  14.40886879,  14.43209648,\n",
       "         14.54455376,  14.71083164,  14.83172417,  14.97502041,\n",
       "         15.01599503,  15.34664249,  15.5471611 ,  15.59772015,\n",
       "         15.73240757,  15.99802589,  16.11822319,  16.29164314,\n",
       "         16.6108017 ,  16.72163963,  17.58695412,  17.68733406,\n",
       "         17.87583733,  18.00728607,  18.46145439,  18.79348564,\n",
       "         18.85978127,  18.90634537,  19.1886158 ,  19.8615284 ,\n",
       "         20.00701714,  20.31877327,  20.89521408,  21.17532921,\n",
       "         22.04024506,  22.31038857,  22.74034691,  23.38990021,\n",
       "         23.97473526,  26.24891663,  30.85018349,  32.35124969], dtype=float32),\n",
       " array([[ -1.41674783e-10,  -1.86248776e-03,   2.45181465e-04, ...,\n",
       "          -6.23813103e-05,  -3.22401078e-10,   8.79971194e-05],\n",
       "        [ -3.75175502e-10,   3.46319517e-03,  -1.01551006e-04, ...,\n",
       "           3.84348095e-05,   3.51465190e-10,   1.91346597e-04],\n",
       "        [  1.36948219e-09,  -2.94952141e-03,   2.53113158e-05, ...,\n",
       "          -9.64574356e-05,  -2.48336435e-10,   5.03744741e-06],\n",
       "        ..., \n",
       "        [ -1.07766240e-10,  -2.49293633e-04,   4.19832068e-05, ...,\n",
       "           1.18213211e-06,  -1.97233008e-10,   8.01981514e-07],\n",
       "        [  1.20275179e-09,  -8.12513754e-04,  -2.35676707e-05, ...,\n",
       "          -1.19090982e-05,   1.17881913e-10,  -1.47129031e-05],\n",
       "        [  4.88040497e-10,   9.57156997e-04,   2.07996636e-05, ...,\n",
       "           1.39770855e-05,  -2.65586268e-11,   1.67869002e-05]], dtype=float32))"
      ]
     },
     "execution_count": 11,
     "metadata": {},
     "output_type": "execute_result"
    }
   ],
   "source": [
    "u, s, vt"
   ]
  },
  {
   "cell_type": "code",
   "execution_count": 12,
   "metadata": {
    "collapsed": false
   },
   "outputs": [],
   "source": [
    "films = json.load(open('data/items.json'))\n",
    "films = {a['id']:a for a in films}\n",
    "for a in films.values():\n",
    "    del a['id']"
   ]
  },
  {
   "cell_type": "code",
   "execution_count": 13,
   "metadata": {
    "collapsed": true
   },
   "outputs": [],
   "source": [
    "for f in films.values():\n",
    "    if 'genre' in f:\n",
    "        f[f['genre']] = 1\n",
    "        del f['genre']"
   ]
  },
  {
   "cell_type": "code",
   "execution_count": 16,
   "metadata": {
    "collapsed": false
   },
   "outputs": [],
   "source": [
    "features = Counter()\n",
    "for f in films.values():\n",
    "    features.update(set(f.keys()))"
   ]
  },
  {
   "cell_type": "code",
   "execution_count": 17,
   "metadata": {
    "collapsed": false
   },
   "outputs": [
    {
     "data": {
      "text/plain": [
       "[('duration', 138078),\n",
       " ('year', 138078),\n",
       " (0, 34128),\n",
       " (3, 32154),\n",
       " ('f_114306', 30650),\n",
       " (1, 28635),\n",
       " ('f_79251', 16647),\n",
       " ('f_117573', 15295),\n",
       " ('f_138980', 15215),\n",
       " (5, 15008),\n",
       " ('f_64513', 14020),\n",
       " ('f_205162', 10693),\n",
       " ('f_122038', 10436),\n",
       " ('f_84602', 8377),\n",
       " ('f_68894', 8348),\n",
       " ('f_127793', 7946),\n",
       " ('f_72071', 7866),\n",
       " (4, 7386),\n",
       " ('f_210900', 7085),\n",
       " ('f_130202', 6371)]"
      ]
     },
     "execution_count": 17,
     "metadata": {},
     "output_type": "execute_result"
    }
   ],
   "source": [
    "features.most_common(20)"
   ]
  },
  {
   "cell_type": "code",
   "execution_count": 18,
   "metadata": {
    "collapsed": true
   },
   "outputs": [],
   "source": [
    "small_features_size = 20 "
   ]
  },
  {
   "cell_type": "code",
   "execution_count": 19,
   "metadata": {
    "collapsed": false
   },
   "outputs": [],
   "source": [
    "small_features = set([_[0] for _ in features.most_common(small_features_size)])"
   ]
  },
  {
   "cell_type": "code",
   "execution_count": 20,
   "metadata": {
    "collapsed": false
   },
   "outputs": [],
   "source": [
    "feature_to_i = {feature: i for i, feature in enumerate(small_features)}"
   ]
  },
  {
   "cell_type": "code",
   "execution_count": 23,
   "metadata": {
    "collapsed": false
   },
   "outputs": [
    {
     "data": {
      "text/plain": [
       "{0: 0,\n",
       " 1: 1,\n",
       " 3: 3,\n",
       " 4: 4,\n",
       " 5: 5,\n",
       " 'f_127793': 6,\n",
       " 'f_79251': 7,\n",
       " 'f_117573': 2,\n",
       " 'f_114306': 9,\n",
       " 'f_122038': 10,\n",
       " 'f_205162': 11,\n",
       " 'duration': 12,\n",
       " 'f_68894': 13,\n",
       " 'f_72071': 14,\n",
       " 'f_130202': 8,\n",
       " 'year': 15,\n",
       " 'f_210900': 16,\n",
       " 'f_84602': 17,\n",
       " 'f_138980': 18,\n",
       " 'f_64513': 19}"
      ]
     },
     "execution_count": 23,
     "metadata": {},
     "output_type": "execute_result"
    }
   ],
   "source": [
    "feature_to_i"
   ]
  },
  {
   "cell_type": "markdown",
   "metadata": {},
   "source": [
    "# Фильтрация пользователей\n",
    "* Значительная часть пользователей имеет всего 1-2 просмотра. При всём желании, рекоммендовать им что-либо осмысленное при помощи рассматриваемого здесь метода мы вряд ли сможем. Для простоты вычислений, удалим их из выборки.\n",
    "* Важно понимать, что качество на оставшихся пользователях скорее всего будет выше, чем на первоначальной выборке."
   ]
  },
  {
   "cell_type": "code",
   "execution_count": 24,
   "metadata": {
    "collapsed": false
   },
   "outputs": [],
   "source": [
    "min_items_per_user = 2\n",
    "from copy import copy\n",
    "for user in copy(test_user_to_items).keys():\n",
    "    \n",
    "    n_items_per_user = len(user_to_items[user]) + len(test_user_to_items[user])\n",
    "    \n",
    "    if n_items_per_user <= min_items_per_user:\n",
    "        del user_to_items[user]\n",
    "        del test_user_to_items[user]"
   ]
  },
  {
   "cell_type": "code",
   "execution_count": null,
   "metadata": {
    "collapsed": true
   },
   "outputs": [],
   "source": []
  },
  {
   "cell_type": "markdown",
   "metadata": {},
   "source": [
    "### Рекоммендующая функция\n",
    "Позволим себе немного вольности: наша функция будет возвращать не вероятности, а список фильмов в порядке убывания \"рекомендованности\".\n",
    "\n",
    "* Рекоммендованность фильма item пользователю user посчитаем так:\n",
    "  * Для каждого фильма, полайканного пользователем user, найдём других людей, которым понравился фильм.\n",
    "  * Сложим всех таких \"друзей по лайкам\" вместе и назовём соседями (__neighborhood__) пользователя.\n",
    "  * Для фильма item узнаем его аудиторию - множество пользователей, которые его лайкнули\n",
    "  * Пригодность фильма пользователю - то, насколько \"друзьям по лайкам\" пользователя нравится этот фильм.\n",
    "\n",
    "Для примера, будем использовать косинусную меру расстояния\n",
    "  \n",
    "$ cos(u_{film}, u_{neighborhood}) = $ =$ u_{film} \\cdot u_{neighborhood} \\over |u_{film}| |u_{neighborhood}| $\n",
    "\n",
    "\n",
    "$u_{neighborhood}$ зависит только от пользователя, но не от фильма, поэтому при сравнении фильмов по пригодности для одного пользователя, его можно исключить из формулы для простоты вычислений.\n",
    "\n",
    "$ similarity(u_{film}, u_{neighborhood}) = $ $  u_{film} \\cdot u_{neighborhood} \\over |u_{film}| $\n",
    "  \n",
    "  \n",
    "Распишем формулу подробно:\n",
    "\n",
    "$ similarity(u_{film}, u_{neighborhood}) = $ $ \\sum _{u_i} [u_i \\in u_{film}] \\cdot [u_i \\in u_{neighborhood}] \\over |u_{film}|  $\n",
    "\n",
    "* u_i - очередной пользователь (в цикле по всем пользователям)\n",
    "  \n",
    "Выражение $[u_i \\in u_{neighborhood}]$ здесь означает \"сколько раз очередной пользователь входит в множество друзей по лайкам\"\n",
    "  \n",
    "  "
   ]
  },
  {
   "cell_type": "code",
   "execution_count": 25,
   "metadata": {
    "collapsed": true
   },
   "outputs": [],
   "source": [
    "from math import sqrt\n",
    "from collections import Counter\n",
    "\n",
    "def recommend(user, n_best = 10):\n",
    "    user_items = user_to_items[user]\n",
    "    \n",
    "    neighborhood = Counter()\n",
    "    for item in user_items:\n",
    "        neighborhood.update(item_to_users[item])\n",
    "    \n",
    "    #словарь {фильм -> пригодность фильма пользователю}\n",
    "    item_similarities = {}\n",
    "    \n",
    "    for item in all_items:\n",
    "        if item in user_items: continue\n",
    "        item_users = item_to_users[item]\n",
    "        if len(item_users) == 0: continue\n",
    "        \n",
    "        n_common_users = sum(neighborhood[user] for user in item_users)\n",
    "        similarity = float(n_common_users) / sqrt(len(item_users))\n",
    "        item_similarities[item] = similarity\n",
    "    \n",
    "    items_sorted = sorted(all_items, key = lambda x: item_similarities.get(x, 0),reverse = True)\n",
    "    \n",
    "    return items_sorted[:n_best]"
   ]
  },
  {
   "cell_type": "code",
   "execution_count": 26,
   "metadata": {
    "collapsed": true
   },
   "outputs": [],
   "source": [
    "user_to_int = dict()\n",
    "for i, user in enumerate(all_users):\n",
    "    user_to_int[user] = i "
   ]
  },
  {
   "cell_type": "code",
   "execution_count": 27,
   "metadata": {
    "collapsed": false
   },
   "outputs": [],
   "source": [
    "#Making dataset\n",
    "user_features = defaultdict(lambda:defaultdict(lambda:0))\n",
    "for user in list(user_to_items.keys())[0:]:\n",
    "    for item in user_to_items[user]:\n",
    "        if item in films:\n",
    "            for feature, value in films[item].items():    \n",
    "                user_features[user][feature]+=value\n",
    "    for f in user_features[user]:\n",
    "        user_features[user][f]/=len(user_to_items)"
   ]
  },
  {
   "cell_type": "code",
   "execution_count": 28,
   "metadata": {
    "collapsed": false
   },
   "outputs": [
    {
     "data": {
      "text/plain": [
       "False"
      ]
     },
     "execution_count": 28,
     "metadata": {},
     "output_type": "execute_result"
    }
   ],
   "source": [
    "edges[0] in test_edges"
   ]
  },
  {
   "cell_type": "code",
   "execution_count": 102,
   "metadata": {
    "collapsed": true
   },
   "outputs": [],
   "source": [
    "features_size = 2*small_features_size + 2"
   ]
  },
  {
   "cell_type": "code",
   "execution_count": 103,
   "metadata": {
    "collapsed": false
   },
   "outputs": [],
   "source": [
    "def extract_features(user=None, item=None, X_sample = np.zeros(features_size, dtype='float32')):\n",
    "    if user is not None:\n",
    "        for f in user_features[user].keys()&small_features:\n",
    "            X_sample[feature_to_i[f]] = user_features[user][f]\n",
    "        if item is not None:\n",
    "            X_sample[2*small_features_size+0] = user_film_mk2(user, item)\n",
    "    if item is not None and item in films:\n",
    "        for f in films[item].keys()&small_features:\n",
    "            X_sample[small_features_size+feature_to_i[f]] = films[item][f]\n",
    "    \n",
    "    return X_sample"
   ]
  },
  {
   "cell_type": "code",
   "execution_count": 30,
   "metadata": {
    "collapsed": false
   },
   "outputs": [
    {
     "data": {
      "text/plain": [
       "100068"
      ]
     },
     "execution_count": 30,
     "metadata": {},
     "output_type": "execute_result"
    }
   ],
   "source": [
    "len(edges)"
   ]
  },
  {
   "cell_type": "code",
   "execution_count": 104,
   "metadata": {
    "collapsed": false
   },
   "outputs": [],
   "source": [
    "def generate_random_samples(X_size = 100, use_test=False):\n",
    "    X = np.zeros((X_size, features_size), dtype='float32')\n",
    "    Y = np.zeros(X_size, dtype='int8')\n",
    "    if use_test:\n",
    "        local_users_list = test_users_list\n",
    "        local_user_to_items = test_user_to_items\n",
    "    else:\n",
    "        local_users_list = users_list\n",
    "        local_user_to_items = user_to_items\n",
    "    for i in range(X_size):\n",
    "        film =''\n",
    "        while film not in films: \n",
    "            result = random.random()\n",
    "            if result > 0.50:\n",
    "                result = 1\n",
    "            else:\n",
    "                result = 0\n",
    "            user = random.choice(local_users_list)\n",
    "            if result==0:\n",
    "                film = random.choice(all_items_list)\n",
    "                if film in local_user_to_items[user]:\n",
    "                    result = 1\n",
    "            else:\n",
    "                film = random.choice(list(local_user_to_items[user]|{''}))\n",
    "        X[i] = extract_features(user, film)\n",
    "        Y[i] = result\n",
    "    return X, Y"
   ]
  },
  {
   "cell_type": "code",
   "execution_count": 105,
   "metadata": {
    "collapsed": true
   },
   "outputs": [],
   "source": [
    "def generate_samples(X_true = 100,  use_test=False):\n",
    "    X_fake=X_true\n",
    "    X = np.zeros((X_true+X_fake, features_size), dtype='float32')\n",
    "    Y = np.zeros(X_true+X_fake, dtype='int8')\n",
    "    if use_test:\n",
    "        local_users_list = test_users_list\n",
    "        local_user_to_items = test_user_to_items\n",
    "        local_edges = test_edges \n",
    "    else: \n",
    "        local_users_list = users_list\n",
    "        local_user_to_items = user_to_items\n",
    "        local_edges = edges\n",
    "    for i, (user, film)  in enumerate(local_edges[:X_true]):\n",
    "        X[i] = extract_features(user, film)\n",
    "        Y[i] = 1\n",
    "    for i in range(X_true, X_true+X_fake):\n",
    "        user = random.choice(local_users_list)\n",
    "        film = random.choice(all_items_list)\n",
    "        X[i] = extract_features(user, film)\n",
    "        if film in local_user_to_items[user]:\n",
    "            Y[i] = 1\n",
    "    return X, Y"
   ]
  },
  {
   "cell_type": "code",
   "execution_count": 135,
   "metadata": {
    "collapsed": false
   },
   "outputs": [],
   "source": [
    "rf = RandomForestRegressor(n_estimators=500, n_jobs=4)"
   ]
  },
  {
   "cell_type": "code",
   "execution_count": 136,
   "metadata": {
    "collapsed": false
   },
   "outputs": [],
   "source": [
    "X, Y = generate_random_samples(100000)"
   ]
  },
  {
   "cell_type": "code",
   "execution_count": 137,
   "metadata": {
    "collapsed": false
   },
   "outputs": [
    {
     "data": {
      "text/plain": [
       "RandomForestRegressor(bootstrap=True, criterion='mse', max_depth=None,\n",
       "           max_features='auto', max_leaf_nodes=None, min_samples_leaf=1,\n",
       "           min_samples_split=2, min_weight_fraction_leaf=0.0,\n",
       "           n_estimators=500, n_jobs=4, oob_score=False, random_state=None,\n",
       "           verbose=0, warm_start=False)"
      ]
     },
     "execution_count": 137,
     "metadata": {},
     "output_type": "execute_result"
    }
   ],
   "source": [
    "rf.fit(X, Y)"
   ]
  },
  {
   "cell_type": "code",
   "execution_count": 144,
   "metadata": {
    "collapsed": false
   },
   "outputs": [
    {
     "name": "stdout",
     "output_type": "stream",
     "text": [
      "Train score: 0.908317129805\n",
      "Test score: 0.164087597449\n"
     ]
    }
   ],
   "source": [
    "X, Y = generate_random_samples(100, use_test=False)\n",
    "print(\"Train score: %s\" %(rf.score(X, Y),))\n",
    "X, Y = generate_random_samples(100, use_test=True)\n",
    "print(\"Test score: %s\" %(rf.score(X, Y),))"
   ]
  },
  {
   "cell_type": "code",
   "execution_count": 115,
   "metadata": {
    "collapsed": false
   },
   "outputs": [
    {
     "data": {
      "text/plain": [
       "(array([ 0.   ,  0.595,  0.845,  0.535,  0.   ,  0.   ,  0.005,  0.01 ,\n",
       "         0.14 ,  0.03 ]), array([0, 1, 1, 0, 0, 0, 0, 0, 0, 0], dtype=int8))"
      ]
     },
     "execution_count": 115,
     "metadata": {},
     "output_type": "execute_result"
    }
   ],
   "source": [
    "X, Y = generate_random_samples(10, use_test=False)\n",
    "rf.predict(X), Y"
   ]
  },
  {
   "cell_type": "code",
   "execution_count": 117,
   "metadata": {
    "collapsed": true
   },
   "outputs": [],
   "source": [
    "def user_film_mk3(user, item, debug=False):\n",
    "    X = np.zeros((1, features_size), dtype='float32')\n",
    "    X[0] = extract_features(user, item)\n",
    "    probs = rf.predict(X)\n",
    "    if debug:\n",
    "        print(probs)\n",
    "    return probs[0]"
   ]
  },
  {
   "cell_type": "code",
   "execution_count": 118,
   "metadata": {
    "collapsed": true
   },
   "outputs": [],
   "source": [
    "def user_film_mk1(user, item, debug=False):\n",
    "    #print(len(user_features[user]))\n",
    "    cursum = 0\n",
    "    curcnt = 0\n",
    "    if item in films:\n",
    "        for feature, value in films[item].items():\n",
    "            if type(value) is int:\n",
    "                curcnt+=1    \n",
    "                cursum+=value*user_features[user][feature]\n",
    "    if curcnt==0:\n",
    "        curcnt+=1\n",
    "    #cursum/=curcnt\n",
    "    if debug:\n",
    "        print(cursum)\n",
    "    return cursum"
   ]
  },
  {
   "cell_type": "code",
   "execution_count": 119,
   "metadata": {
    "collapsed": true
   },
   "outputs": [],
   "source": [
    "def user_film_mk2(user, item, debug=False):\n",
    "    ui = user_to_i[user]\n",
    "    ii = item_to_i[item]\n",
    "    if debug:\n",
    "        print(ui, ii)\n",
    "    a = np.dot(u[ui,:] * s, vt[:,ii])\n",
    "    return a"
   ]
  },
  {
   "cell_type": "code",
   "execution_count": 120,
   "metadata": {
    "collapsed": false
   },
   "outputs": [
    {
     "name": "stdout",
     "output_type": "stream",
     "text": [
      "[ 0.]\n"
     ]
    },
    {
     "data": {
      "text/plain": [
       "0.0"
      ]
     },
     "execution_count": 120,
     "metadata": {},
     "output_type": "execute_result"
    }
   ],
   "source": [
    "user_film_mk3('26052b20aa96ed8d803dbfe4e9497192', '45ea2aa2143effcb6575daf0143e31b4', debug=True)"
   ]
  },
  {
   "cell_type": "code",
   "execution_count": 133,
   "metadata": {
    "collapsed": false
   },
   "outputs": [],
   "source": [
    "def recommend_mk3_manual(user, n_best = 10, debug=False):\n",
    "    user_items = user_to_items[user]\n",
    "\n",
    "    item_similarities = {}\n",
    "    cur_items = [item for item in all_items if item not in user_items and len(item_to_users[item])>0]\n",
    "    \n",
    "    X = np.zeros((len(cur_items), features_size), dtype='float32')\n",
    "    X_user = extract_features(user)\n",
    "    for i, item in enumerate(cur_items):\n",
    "        X[i] = extract_features(user=None, item=item, X_sample=X_user)\n",
    "    \n",
    "    probs =rf.predict(X)\n",
    "    item_similarities = {key: prob for key, prob in zip(cur_items, probs)}\n",
    "    items_sorted = sorted(all_items, key = lambda x: item_similarities.get(x, 0),reverse = True)\n",
    "    if debug:\n",
    "        print(X)\n",
    "        for a in  items_sorted[:n_best]:\n",
    "            print((a, item_similarities.get(a, 0)))\n",
    "    return items_sorted[:n_best]"
   ]
  },
  {
   "cell_type": "code",
   "execution_count": 122,
   "metadata": {
    "collapsed": false
   },
   "outputs": [],
   "source": [
    "def generic_recommend(user_flim_function):\n",
    "    def recommend(user, n_best = 10, debug=False):\n",
    "        user_items = user_to_items[user]\n",
    "\n",
    "        item_similarities = {}\n",
    "        for item in all_items:\n",
    "            if item in user_items: continue\n",
    "            item_users = item_to_users[item]\n",
    "            if len(item_users) == 0: continue\n",
    "\n",
    "            item_similarities[item] = user_flim_function(user, item)\n",
    "\n",
    "        items_sorted = sorted(all_items, key = lambda x: item_similarities.get(x, 0),reverse = True)\n",
    "        if debug:\n",
    "            for a in  items_sorted[:n_best]:\n",
    "                print((a, item_similarities.get(a, 0)))\n",
    "        return items_sorted[:n_best]\n",
    "    return recommend"
   ]
  },
  {
   "cell_type": "code",
   "execution_count": 123,
   "metadata": {
    "collapsed": false,
    "scrolled": true
   },
   "outputs": [
    {
     "name": "stdout",
     "output_type": "stream",
     "text": [
      "('7682d6641caf183ffcf2616c9bb1e434', 0.08739379)\n",
      "('b5e424608d041f38c2fd6125b3bcd40f', 0.062321573)\n",
      "('006a602774c79d476cdbd5dff7dd24f1', 0.047887065)\n",
      "('e9caaa12a277abf87ba07b84e09a4170', 0.045560129)\n",
      "('aa5f2ca699da42e467e550f9f071fb3f', 0.044249389)\n",
      "('bcee3a68dbfb6b4ea97ac53ceb1d3287', 0.044186898)\n",
      "('e8047b4262e676d28f50816ac3fde1ca', 0.042720947)\n",
      "('77c7998b3d3d41f3fc3aec786b4015ac', 0.038098648)\n",
      "('1da6f84598fbeea050da49fe37297932', 0.037306551)\n",
      "('2dc12b93072f94bca9438902bddc36c4', 0.035170436)\n",
      "10976 651\n"
     ]
    },
    {
     "data": {
      "text/plain": [
       "0.0024645075"
      ]
     },
     "execution_count": 123,
     "metadata": {},
     "output_type": "execute_result"
    }
   ],
   "source": [
    "generic_recommend(user_film_mk2)('1a337111f63f6a7f86cebf6b2ad3d732', debug=True)\n",
    "user_film_mk2('1a337111f63f6a7f86cebf6b2ad3d732', 'c745ed11b94ed93f3008897c75240de3', debug=True)"
   ]
  },
  {
   "cell_type": "code",
   "execution_count": 124,
   "metadata": {
    "collapsed": false
   },
   "outputs": [
    {
     "name": "stdout",
     "output_type": "stream",
     "text": [
      "('e13df82b3252eaeefc0c13599695f9c7', 0.000658196541476355)\n",
      "('634e622e5c957c2cd8ddb98ca75ef937', 0.0005584697927678163)\n",
      "('8faa6327a2ca2eb92e738ffc204d35c0', 0.0005584697927678163)\n",
      "('64b6536649e20bd72d7183ec717b6c86', 0.0005385244430261086)\n",
      "('5c6d1862dc1e82f340962b308999e603', 0.0005185790932844008)\n",
      "('bcee3a68dbfb6b4ea97ac53ceb1d3287', 0.0005185790932844007)\n",
      "('ef786a839c609561b76ce03768eace80', 0.0005185790932844007)\n",
      "('ff987a60d68f5bbbefe97f8c5062711a', 0.0004986337435426931)\n",
      "('753bce7ac492e6c95b07b85f8877cf5a', 0.0004786883938009853)\n",
      "('7b0f1b0815292c0a550fabd5eeadc011', 0.00045874304405927767)\n",
      "0\n"
     ]
    },
    {
     "data": {
      "text/plain": [
       "0"
      ]
     },
     "execution_count": 124,
     "metadata": {},
     "output_type": "execute_result"
    }
   ],
   "source": [
    "generic_recommend(user_film_mk1)('1a337111f63f6a7f86cebf6b2ad3d732', debug=True)\n",
    "user_film_mk1('1a337111f63f6a7f86cebf6b2ad3d732', 'c745ed11b94ed93f3008897c75240de3', debug=True)"
   ]
  },
  {
   "cell_type": "code",
   "execution_count": 134,
   "metadata": {
    "collapsed": false
   },
   "outputs": [
    {
     "name": "stdout",
     "output_type": "stream",
     "text": [
      "[[  1.99453498e-05   3.98906996e-05   1.99453498e-05 ...,   1.00000000e+00\n",
      "   -2.01798050e-10   0.00000000e+00]\n",
      " [  1.99453498e-05   3.98906996e-05   1.99453498e-05 ...,   1.00000000e+00\n",
      "   -2.01798050e-10   0.00000000e+00]\n",
      " [  1.99453498e-05   3.98906996e-05   1.99453498e-05 ...,   1.00000000e+00\n",
      "   -2.01798050e-10   0.00000000e+00]\n",
      " ..., \n",
      " [  1.99453498e-05   3.98906996e-05   1.99453498e-05 ...,   1.00000000e+00\n",
      "   -2.01798050e-10   0.00000000e+00]\n",
      " [  1.99453498e-05   3.98906996e-05   1.99453498e-05 ...,   1.00000000e+00\n",
      "   -2.01798050e-10   0.00000000e+00]\n",
      " [  1.99453498e-05   3.98906996e-05   1.99453498e-05 ...,   1.00000000e+00\n",
      "   -2.01798050e-10   0.00000000e+00]]\n",
      "('c05f02202be0400304f28c230f5f173a', 0.59499999999999997)\n",
      "('ac6e5b50b2d67c0e966f20dec8f084a4', 0.58999999999999997)\n",
      "('92e64593b342296659e4de66494ac826', 0.58499999999999996)\n",
      "('2c46457b2ea7c930e57a2d9117d747bc', 0.58499999999999996)\n",
      "('6a29f58bc4044da24320e88008dbcd17', 0.58499999999999996)\n",
      "('67823ee56f783626eb6114f8aa9e9635', 0.58499999999999996)\n",
      "('edd842b47f39b8df23a9ea1455b17612', 0.58499999999999996)\n",
      "('cea87eed758a63f93b0414550abee0fd', 0.57999999999999996)\n",
      "('fb3bd01418de02431d190bb035a813d3', 0.57999999999999996)\n",
      "('bcfc6f10ab46319916fd034825c8af34', 0.57999999999999996)\n"
     ]
    },
    {
     "data": {
      "text/plain": [
       "['c05f02202be0400304f28c230f5f173a',\n",
       " 'ac6e5b50b2d67c0e966f20dec8f084a4',\n",
       " '92e64593b342296659e4de66494ac826',\n",
       " '2c46457b2ea7c930e57a2d9117d747bc',\n",
       " '6a29f58bc4044da24320e88008dbcd17',\n",
       " '67823ee56f783626eb6114f8aa9e9635',\n",
       " 'edd842b47f39b8df23a9ea1455b17612',\n",
       " 'cea87eed758a63f93b0414550abee0fd',\n",
       " 'fb3bd01418de02431d190bb035a813d3',\n",
       " 'bcfc6f10ab46319916fd034825c8af34']"
      ]
     },
     "execution_count": 134,
     "metadata": {},
     "output_type": "execute_result"
    }
   ],
   "source": [
    "recommend_mk3_manual('a18f526db904f8f2ee4c8d178bfc818c', debug=True)"
   ]
  },
  {
   "cell_type": "code",
   "execution_count": 238,
   "metadata": {
    "collapsed": false
   },
   "outputs": [
    {
     "data": {
      "text/plain": [
       "('a18f526db904f8f2ee4c8d178bfc818c', {'7a040062b953a9a3e7fb1545def5773f'})"
      ]
     },
     "execution_count": 238,
     "metadata": {},
     "output_type": "execute_result"
    }
   ],
   "source": [
    "list(test_user_to_items.items())[7]"
   ]
  },
  {
   "cell_type": "code",
   "execution_count": 42,
   "metadata": {
    "collapsed": true
   },
   "outputs": [],
   "source": [
    "def recommend_dummy(user, n_best = 10):\n",
    "    item_similarities = []\n",
    "    for item in all_items:\n",
    "        #пропустим те фильмы, которые пользователь уже просмотрел, если нас об этом попросили\n",
    "        if item in user_to_items[user]: continue\n",
    "        item_similarities.append(item)\n",
    "         \n",
    "    random.shuffle(item_similarities)\n",
    "    #вернём n_best наиболее пригодных\n",
    "    #print(items_sorted[:n_best])\n",
    "    return item_similarities[:n_best]"
   ]
  },
  {
   "cell_type": "markdown",
   "metadata": {
    "collapsed": true
   },
   "source": [
    "# Оценка качества - map@k"
   ]
  },
  {
   "cell_type": "code",
   "execution_count": 45,
   "metadata": {
    "collapsed": false
   },
   "outputs": [
    {
     "name": "stdout",
     "output_type": "stream",
     "text": [
      "0 / 200\n",
      "100 / 200\n",
      "AP@10 = 9.259259259259259e-05\n"
     ]
    }
   ],
   "source": [
    "check_quality(recommend_dummy,10,200)"
   ]
  },
  {
   "cell_type": "code",
   "execution_count": null,
   "metadata": {
    "collapsed": false
   },
   "outputs": [
    {
     "name": "stdout",
     "output_type": "stream",
     "text": [
      "0 / 200\n",
      "100 / 200\n"
     ]
    }
   ],
   "source": [
    "check_quality(recommend_mk3_manual,200, 200)"
   ]
  },
  {
   "cell_type": "code",
   "execution_count": null,
   "metadata": {
    "collapsed": false
   },
   "outputs": [],
   "source": [
    "check_quality(generic_recommend(user_film_mk1),200, 200)"
   ]
  },
  {
   "cell_type": "code",
   "execution_count": 130,
   "metadata": {
    "collapsed": false
   },
   "outputs": [
    {
     "name": "stdout",
     "output_type": "stream",
     "text": [
      "0 / 200\n",
      "100 / 200\n",
      "AP@100 = 0.007631459343212682\n"
     ]
    }
   ],
   "source": [
    "check_quality(generic_recommend(user_film_mk2),200,200)"
   ]
  },
  {
   "cell_type": "code",
   "execution_count": 132,
   "metadata": {
    "collapsed": false
   },
   "outputs": [
    {
     "name": "stdout",
     "output_type": "stream",
     "text": [
      "0 / 200\n",
      "100 / 200\n",
      "AP@100 = 0.003063415596733874\n"
     ]
    }
   ],
   "source": [
    "check_quality(recommend,100, 200)"
   ]
  },
  {
   "cell_type": "code",
   "execution_count": 49,
   "metadata": {
    "collapsed": false
   },
   "outputs": [
    {
     "data": {
      "text/plain": [
       "2732"
      ]
     },
     "execution_count": 49,
     "metadata": {},
     "output_type": "execute_result"
    }
   ],
   "source": [
    "len(test_user_to_items)"
   ]
  },
  {
   "cell_type": "code",
   "execution_count": 127,
   "metadata": {
    "collapsed": false
   },
   "outputs": [],
   "source": [
    "#сколько рекоммендаций рассматриваем\n",
    "def check_quality(function, K = 10, max_n_users = len(test_user_to_items)):\n",
    "    APatK_per_user = []\n",
    "    user_list = list(test_user_to_items.keys())[:max_n_users]\n",
    "    \n",
    "    for i, user in enumerate(user_list):\n",
    "        #фильмы, которые пользователю на самом деле нравятся\n",
    "        test_items = test_user_to_items[user]\n",
    "\n",
    "        #Выдать топ-K рекоммендаций\n",
    "        recommendation_list = function(user,n_best=K)\n",
    "        #Посчитать ap@k\n",
    "        user_APatK = apk(test_items, recommendation_list,k=K)\n",
    "\n",
    "        #и сложить в коробку\n",
    "        APatK_per_user.append(user_APatK)\n",
    "\n",
    "        #Progress bar\n",
    "        if i % 100 ==0:\n",
    "            print(i,'/',max_n_users)\n",
    "\n",
    "        if i > max_n_users:\n",
    "            break\n",
    "\n",
    "    print('AP@{} = {}'.format(K, sum(APatK_per_user)/len(APatK_per_user)))\n"
   ]
  },
  {
   "cell_type": "markdown",
   "metadata": {},
   "source": [
    "# Notes\n",
    "* Кроме качества рекоммендаций, map@k ещё зависит от доли тестовой выборки, фильтрации и от самого K. Сравнивать качество разных алгоритмов имеет смысл только при одинаковом K и тестовой выборке.\n",
    "* Давать полезные рекоммендации пользователям с малым числом просмотров тоже можно: например, можно выдавать наиболее популярные в целом фильмы.\n",
    "* Разделение на обучение/тест честнее делать на по времени: первые 70% (например) лайков в обучение, остальные в тест. Это ближе к реальной жизни, когда вы сначала обучаете модель на логах, а потом применяете на новых сессиях пользователей."
   ]
  },
  {
   "cell_type": "code",
   "execution_count": null,
   "metadata": {
    "collapsed": true
   },
   "outputs": [],
   "source": []
  },
  {
   "cell_type": "code",
   "execution_count": null,
   "metadata": {
    "collapsed": true
   },
   "outputs": [],
   "source": []
  }
 ],
 "metadata": {
  "anaconda-cloud": {},
  "kernelspec": {
   "display_name": "Python [Root]",
   "language": "python",
   "name": "Python [Root]"
  },
  "language_info": {
   "codemirror_mode": {
    "name": "ipython",
    "version": 3
   },
   "file_extension": ".py",
   "mimetype": "text/x-python",
   "name": "python",
   "nbconvert_exporter": "python",
   "pygments_lexer": "ipython3",
   "version": "3.5.1"
  }
 },
 "nbformat": 4,
 "nbformat_minor": 0
}
